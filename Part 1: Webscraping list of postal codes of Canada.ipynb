{
    "cells": [
        {
            "cell_type": "markdown",
            "metadata": {},
            "source": "## Using BeautifulSoup to webscrape the Wikipedia article \"List of postal codes of Canada\""
        },
        {
            "cell_type": "markdown",
            "metadata": {},
            "source": "First, import necessary libraries."
        },
        {
            "cell_type": "code",
            "execution_count": 1,
            "metadata": {},
            "outputs": [],
            "source": "import requests\nimport urllib.request\nimport time\nfrom bs4 import BeautifulSoup\nimport numpy as np\nimport pandas as pd\nfrom urllib.request import urlopen"
        },
        {
            "cell_type": "markdown",
            "metadata": {},
            "source": "Set the article's address equal the the variable url."
        },
        {
            "cell_type": "code",
            "execution_count": 2,
            "metadata": {},
            "outputs": [],
            "source": "url = 'https://en.wikipedia.org/wiki/List_of_postal_codes_of_Canada:_M'"
        },
        {
            "cell_type": "markdown",
            "metadata": {},
            "source": "Use `urlopen()` from urllib and set equal to the variable html."
        },
        {
            "cell_type": "code",
            "execution_count": 3,
            "metadata": {},
            "outputs": [],
            "source": "html = urlopen(url)"
        },
        {
            "cell_type": "markdown",
            "metadata": {},
            "source": "Parse the html using BeautifulSoup and set equal to the variable soup."
        },
        {
            "cell_type": "code",
            "execution_count": 4,
            "metadata": {},
            "outputs": [],
            "source": "soup = BeautifulSoup(html, 'html.parser')"
        },
        {
            "cell_type": "markdown",
            "metadata": {},
            "source": "In the article, right click and choose the \"Inspect\" element to look at the HTML. You will see that the table is listed under `<table>` and that the class is listed as `wikitable sortable`.\n\nYou can use the `soup.find_all()` function to get all tables with class: wikitable sortable from the article. Set that equal to the variable tables."
        },
        {
            "cell_type": "code",
            "execution_count": 5,
            "metadata": {},
            "outputs": [],
            "source": "tables = soup.find_all('table',{'class':'wikitable sortable'})"
        },
        {
            "cell_type": "markdown",
            "metadata": {},
            "source": "After doing this, create three empty lists, one for each column.\n\nEach row is listed under `<tr>`, so use a for loop using `find_all('tr')` to get all the rows from the table.\n\nSimilarly, each cell is listed under `<td>`, so use a for loop again with `find_all('td')` to get all the cells in each row.\n\nUse `if len(cells) > 1` to skip the first row of the table, which contains the column headers.\n\nFinally, append text content of the cells of each column to the corresponding empty list. This can be done using the column's index position. You will also need to strip the text to remove the \\n from each cell."
        },
        {
            "cell_type": "code",
            "execution_count": 6,
            "metadata": {},
            "outputs": [],
            "source": "PostalCode = []\nBorough = []\nNeighborhood = []\n\nfor table in tables:\n    rows = table.find_all('tr')\n    \n    for row in rows:\n        cells = row.find_all('td')\n        \n        if len(cells) > 1:\n        \n            postalcode = cells[0]\n            PostalCode.append(postalcode.text.strip())\n            \n            borough = cells[1]\n            Borough.append(borough.text.strip())\n            \n            neighborhood = cells[2]\n            Neighborhood.append(neighborhood.text.strip())"
        },
        {
            "cell_type": "markdown",
            "metadata": {},
            "source": "Now you can create the dataframe using `pd.DataFrame`. Include each of the lists, now filled with the cell data from the table, and choose the column names accordingly. "
        },
        {
            "cell_type": "code",
            "execution_count": 7,
            "metadata": {},
            "outputs": [],
            "source": "df = pd.DataFrame(list(zip(PostalCode, Borough, Neighborhood)), columns =['PostalCode', 'Borough', 'Neighborhood']) "
        },
        {
            "cell_type": "code",
            "execution_count": 8,
            "metadata": {
                "scrolled": true
            },
            "outputs": [
                {
                    "data": {
                        "text/html": "<div>\n<style scoped>\n    .dataframe tbody tr th:only-of-type {\n        vertical-align: middle;\n    }\n\n    .dataframe tbody tr th {\n        vertical-align: top;\n    }\n\n    .dataframe thead th {\n        text-align: right;\n    }\n</style>\n<table border=\"1\" class=\"dataframe\">\n  <thead>\n    <tr style=\"text-align: right;\">\n      <th></th>\n      <th>PostalCode</th>\n      <th>Borough</th>\n      <th>Neighborhood</th>\n    </tr>\n  </thead>\n  <tbody>\n    <tr>\n      <th>0</th>\n      <td>M1A</td>\n      <td>Not assigned</td>\n      <td>Not assigned</td>\n    </tr>\n    <tr>\n      <th>1</th>\n      <td>M2A</td>\n      <td>Not assigned</td>\n      <td>Not assigned</td>\n    </tr>\n    <tr>\n      <th>2</th>\n      <td>M3A</td>\n      <td>North York</td>\n      <td>Parkwoods</td>\n    </tr>\n    <tr>\n      <th>3</th>\n      <td>M4A</td>\n      <td>North York</td>\n      <td>Victoria Village</td>\n    </tr>\n    <tr>\n      <th>4</th>\n      <td>M5A</td>\n      <td>Downtown Toronto</td>\n      <td>Regent Park, Harbourfront</td>\n    </tr>\n    <tr>\n      <th>5</th>\n      <td>M6A</td>\n      <td>North York</td>\n      <td>Lawrence Manor, Lawrence Heights</td>\n    </tr>\n    <tr>\n      <th>6</th>\n      <td>M7A</td>\n      <td>Downtown Toronto</td>\n      <td>Queen's Park, Ontario Provincial Government</td>\n    </tr>\n    <tr>\n      <th>7</th>\n      <td>M8A</td>\n      <td>Not assigned</td>\n      <td>Not assigned</td>\n    </tr>\n    <tr>\n      <th>8</th>\n      <td>M9A</td>\n      <td>Etobicoke</td>\n      <td>Islington Avenue, Humber Valley Village</td>\n    </tr>\n    <tr>\n      <th>9</th>\n      <td>M1B</td>\n      <td>Scarborough</td>\n      <td>Malvern, Rouge</td>\n    </tr>\n  </tbody>\n</table>\n</div>",
                        "text/plain": "  PostalCode           Borough                                 Neighborhood\n0        M1A      Not assigned                                 Not assigned\n1        M2A      Not assigned                                 Not assigned\n2        M3A        North York                                    Parkwoods\n3        M4A        North York                             Victoria Village\n4        M5A  Downtown Toronto                    Regent Park, Harbourfront\n5        M6A        North York             Lawrence Manor, Lawrence Heights\n6        M7A  Downtown Toronto  Queen's Park, Ontario Provincial Government\n7        M8A      Not assigned                                 Not assigned\n8        M9A         Etobicoke      Islington Avenue, Humber Valley Village\n9        M1B       Scarborough                               Malvern, Rouge"
                    },
                    "execution_count": 8,
                    "metadata": {},
                    "output_type": "execute_result"
                }
            ],
            "source": "df.head(10)"
        },
        {
            "cell_type": "markdown",
            "metadata": {},
            "source": "We only want the cells with assigned boroughs, so drop the rows where the Borough column has a cell value of 'Not assigned'. You may also want to reset the index here so the rows are properly numbered. "
        },
        {
            "cell_type": "code",
            "execution_count": 9,
            "metadata": {},
            "outputs": [],
            "source": "df1 = df[~df['Borough'].str.contains('Not assigned')].reset_index(drop = True)"
        },
        {
            "cell_type": "markdown",
            "metadata": {},
            "source": "Check that the first 10 rows of the dataframe look correct using the `head()` function."
        },
        {
            "cell_type": "code",
            "execution_count": 10,
            "metadata": {
                "scrolled": true
            },
            "outputs": [
                {
                    "data": {
                        "text/html": "<div>\n<style scoped>\n    .dataframe tbody tr th:only-of-type {\n        vertical-align: middle;\n    }\n\n    .dataframe tbody tr th {\n        vertical-align: top;\n    }\n\n    .dataframe thead th {\n        text-align: right;\n    }\n</style>\n<table border=\"1\" class=\"dataframe\">\n  <thead>\n    <tr style=\"text-align: right;\">\n      <th></th>\n      <th>PostalCode</th>\n      <th>Borough</th>\n      <th>Neighborhood</th>\n    </tr>\n  </thead>\n  <tbody>\n    <tr>\n      <th>0</th>\n      <td>M3A</td>\n      <td>North York</td>\n      <td>Parkwoods</td>\n    </tr>\n    <tr>\n      <th>1</th>\n      <td>M4A</td>\n      <td>North York</td>\n      <td>Victoria Village</td>\n    </tr>\n    <tr>\n      <th>2</th>\n      <td>M5A</td>\n      <td>Downtown Toronto</td>\n      <td>Regent Park, Harbourfront</td>\n    </tr>\n    <tr>\n      <th>3</th>\n      <td>M6A</td>\n      <td>North York</td>\n      <td>Lawrence Manor, Lawrence Heights</td>\n    </tr>\n    <tr>\n      <th>4</th>\n      <td>M7A</td>\n      <td>Downtown Toronto</td>\n      <td>Queen's Park, Ontario Provincial Government</td>\n    </tr>\n    <tr>\n      <th>5</th>\n      <td>M9A</td>\n      <td>Etobicoke</td>\n      <td>Islington Avenue, Humber Valley Village</td>\n    </tr>\n    <tr>\n      <th>6</th>\n      <td>M1B</td>\n      <td>Scarborough</td>\n      <td>Malvern, Rouge</td>\n    </tr>\n    <tr>\n      <th>7</th>\n      <td>M3B</td>\n      <td>North York</td>\n      <td>Don Mills</td>\n    </tr>\n    <tr>\n      <th>8</th>\n      <td>M4B</td>\n      <td>East York</td>\n      <td>Parkview Hill, Woodbine Gardens</td>\n    </tr>\n    <tr>\n      <th>9</th>\n      <td>M5B</td>\n      <td>Downtown Toronto</td>\n      <td>Garden District, Ryerson</td>\n    </tr>\n  </tbody>\n</table>\n</div>",
                        "text/plain": "  PostalCode           Borough                                 Neighborhood\n0        M3A        North York                                    Parkwoods\n1        M4A        North York                             Victoria Village\n2        M5A  Downtown Toronto                    Regent Park, Harbourfront\n3        M6A        North York             Lawrence Manor, Lawrence Heights\n4        M7A  Downtown Toronto  Queen's Park, Ontario Provincial Government\n5        M9A         Etobicoke      Islington Avenue, Humber Valley Village\n6        M1B       Scarborough                               Malvern, Rouge\n7        M3B        North York                                    Don Mills\n8        M4B         East York              Parkview Hill, Woodbine Gardens\n9        M5B  Downtown Toronto                     Garden District, Ryerson"
                    },
                    "execution_count": 10,
                    "metadata": {},
                    "output_type": "execute_result"
                }
            ],
            "source": "df1.head(10)"
        },
        {
            "cell_type": "markdown",
            "metadata": {},
            "source": "Finally, check the shape of the dataframe using the function `shape`."
        },
        {
            "cell_type": "code",
            "execution_count": 11,
            "metadata": {},
            "outputs": [
                {
                    "data": {
                        "text/plain": "(103, 3)"
                    },
                    "execution_count": 11,
                    "metadata": {},
                    "output_type": "execute_result"
                }
            ],
            "source": "df1.shape"
        },
        {
            "cell_type": "code",
            "execution_count": null,
            "metadata": {},
            "outputs": [],
            "source": ""
        }
    ],
    "metadata": {
        "kernelspec": {
            "display_name": "Python 3.7",
            "language": "python",
            "name": "python3"
        },
        "language_info": {
            "codemirror_mode": {
                "name": "ipython",
                "version": 3
            },
            "file_extension": ".py",
            "mimetype": "text/x-python",
            "name": "python",
            "nbconvert_exporter": "python",
            "pygments_lexer": "ipython3",
            "version": "3.7.9"
        }
    },
    "nbformat": 4,
    "nbformat_minor": 1
}